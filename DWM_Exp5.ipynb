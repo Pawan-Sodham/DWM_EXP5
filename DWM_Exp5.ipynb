{
  "nbformat": 4,
  "nbformat_minor": 0,
  "metadata": {
    "colab": {
      "provenance": [],
      "authorship_tag": "ABX9TyOE4Ya5gHY7kEZW0Y2f0Q4E",
      "include_colab_link": true
    },
    "kernelspec": {
      "name": "python3",
      "display_name": "Python 3"
    },
    "language_info": {
      "name": "python"
    }
  },
  "cells": [
    {
      "cell_type": "markdown",
      "metadata": {
        "id": "view-in-github",
        "colab_type": "text"
      },
      "source": [
        "<a href=\"https://colab.research.google.com/github/Pawan-Sodham/DWM_EXP5/blob/main/DWM_Exp5.ipynb\" target=\"_parent\"><img src=\"https://colab.research.google.com/assets/colab-badge.svg\" alt=\"Open In Colab\"/></a>"
      ]
    },
    {
      "cell_type": "code",
      "execution_count": 6,
      "metadata": {
        "colab": {
          "base_uri": "https://localhost:8080/"
        },
        "id": "z-z2-PMCeTTs",
        "outputId": "5dab5413-1cf2-4e3d-a05c-cda196703c18"
      },
      "outputs": [
        {
          "output_type": "stream",
          "name": "stdout",
          "text": [
            "Frequent Itemsets:\n",
            "   support         itemsets\n",
            "0      0.6           (Beer)\n",
            "1      0.8          (Bread)\n",
            "2      0.8         (Diaper)\n",
            "3      0.8           (Milk)\n",
            "4      0.6   (Beer, Diaper)\n",
            "5      0.6  (Diaper, Bread)\n",
            "6      0.6    (Milk, Bread)\n",
            "7      0.6   (Diaper, Milk)\n",
            "\n",
            "Association Rules:\n",
            "  antecedents consequents  support  confidence    lift\n",
            "0      (Beer)    (Diaper)      0.6        1.00  1.2500\n",
            "1    (Diaper)      (Beer)      0.6        0.75  1.2500\n",
            "2    (Diaper)     (Bread)      0.6        0.75  0.9375\n",
            "3     (Bread)    (Diaper)      0.6        0.75  0.9375\n",
            "4      (Milk)     (Bread)      0.6        0.75  0.9375\n",
            "5     (Bread)      (Milk)      0.6        0.75  0.9375\n",
            "6    (Diaper)      (Milk)      0.6        0.75  0.9375\n",
            "7      (Milk)    (Diaper)      0.6        0.75  0.9375\n"
          ]
        }
      ],
      "source": [
        "from mlxtend.frequent_patterns import apriori, association_rules\n",
        "import pandas as pd\n",
        "\n",
        "dataset = [\n",
        "['Milk', 'Bread', 'Nutella'],\n",
        "['Milk', 'Diaper', 'Beer', 'Eggs'],\n",
        "['Milk', 'Bread', 'Diaper', 'Beer'],\n",
        "['Bread', 'Diaper', 'Beer'],\n",
        "['Milk', 'Bread', 'Diaper', 'Nutella']\n",
        "]\n",
        "\n",
        "items = sorted(set(item for transaction in dataset for\n",
        "item in transaction))\n",
        "df = pd.DataFrame([{item: (item in transaction) for item\n",
        "in items} for transaction in dataset])\n",
        "\n",
        "min_support = 0.5\n",
        "frequent_itemsets = apriori(df, min_support=min_support, use_colnames=True)\n",
        "\n",
        "min_confidence = 0.7\n",
        "rules = association_rules(frequent_itemsets,\n",
        "metric=\"confidence\", min_threshold=min_confidence)\n",
        "\n",
        "print(\"Frequent Itemsets:\")\n",
        "print(frequent_itemsets)\n",
        "print(\"\\nAssociation Rules:\")\n",
        "print(rules[['antecedents', 'consequents', 'support', 'confidence', 'lift']])"
      ]
    }
  ]
}